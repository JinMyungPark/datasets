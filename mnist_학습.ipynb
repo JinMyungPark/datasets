{
  "nbformat": 4,
  "nbformat_minor": 0,
  "metadata": {
    "colab": {
      "name": "mnist_학습.ipynb",
      "provenance": [],
      "collapsed_sections": [],
      "authorship_tag": "ABX9TyMmWrLMRo/8Op15ejp2kXL2",
      "include_colab_link": true
    },
    "kernelspec": {
      "name": "python3",
      "display_name": "Python 3"
    }
  },
  "cells": [
    {
      "cell_type": "markdown",
      "metadata": {
        "id": "view-in-github",
        "colab_type": "text"
      },
      "source": [
        "<a href=\"https://colab.research.google.com/github/JinMyungPark/datasets/blob/master/mnist_%ED%95%99%EC%8A%B5.ipynb\" target=\"_parent\"><img src=\"https://colab.research.google.com/assets/colab-badge.svg\" alt=\"Open In Colab\"/></a>"
      ]
    },
    {
      "cell_type": "code",
      "metadata": {
        "id": "SqYTnEui4EQ4"
      },
      "source": [
        "import tensorflow as tf\n",
        "import time\n",
        "import numpy as np"
      ],
      "execution_count": null,
      "outputs": []
    },
    {
      "cell_type": "code",
      "metadata": {
        "id": "gGcxCgBd4SFQ",
        "outputId": "861b8fe0-3e72-4fdd-a988-460af280da19",
        "colab": {
          "base_uri": "https://localhost:8080/",
          "height": 562
        }
      },
      "source": [
        "tf.keras.datasets.mnist.load_data"
      ],
      "execution_count": null,
      "outputs": [
        {
          "output_type": "stream",
          "text": [
            "Help on function load_data in module tensorflow.python.keras.datasets.mnist:\n",
            "\n",
            "load_data(path='mnist.npz')\n",
            "    Loads the [MNIST dataset](http://yann.lecun.com/exdb/mnist/).\n",
            "    \n",
            "    This is a dataset of 60,000 28x28 grayscale images of the 10 digits,\n",
            "    along with a test set of 10,000 images.\n",
            "    More info can be found at the\n",
            "    [MNIST homepage](http://yann.lecun.com/exdb/mnist/).\n",
            "    \n",
            "    \n",
            "    Arguments:\n",
            "        path: path where to cache the dataset locally\n",
            "            (relative to `~/.keras/datasets`).\n",
            "    \n",
            "    Returns:\n",
            "        Tuple of Numpy arrays: `(x_train, y_train), (x_test, y_test)`.\n",
            "    \n",
            "        **x_train, x_test**: uint8 arrays of grayscale image data with shapes\n",
            "          (num_samples, 28, 28).\n",
            "    \n",
            "        **y_train, y_test**: uint8 arrays of digit labels (integers in range 0-9)\n",
            "          with shapes (num_samples,).\n",
            "    \n",
            "    License:\n",
            "        Yann LeCun and Corinna Cortes hold the copyright of MNIST dataset,\n",
            "        which is a derivative work from original NIST datasets.\n",
            "        MNIST dataset is made available under the terms of the\n",
            "        [Creative Commons Attribution-Share Alike 3.0 license.](\n",
            "        https://creativecommons.org/licenses/by-sa/3.0/)\n",
            "\n"
          ],
          "name": "stdout"
        }
      ]
    },
    {
      "cell_type": "code",
      "metadata": {
        "id": "IB77a_X_4IUp",
        "outputId": "9a85077c-cf94-4758-fbc3-60076bf9d550",
        "colab": {
          "base_uri": "https://localhost:8080/",
          "height": 34
        }
      },
      "source": [
        "np.transpose(10)"
      ],
      "execution_count": null,
      "outputs": [
        {
          "output_type": "execute_result",
          "data": {
            "text/plain": [
              "array(10)"
            ]
          },
          "metadata": {
            "tags": []
          },
          "execution_count": 6
        }
      ]
    },
    {
      "cell_type": "code",
      "metadata": {
        "id": "xqEew79Rkiie"
      },
      "source": [
        "(x_train, y_train), (x_test, y_test) = tf.keras.datasets.mnist.load_data()\n"
      ],
      "execution_count": null,
      "outputs": []
    },
    {
      "cell_type": "code",
      "metadata": {
        "id": "qmcLN88Lk8YV",
        "outputId": "14c35600-34e1-4a3a-bcaf-39887e0a5db2",
        "colab": {
          "base_uri": "https://localhost:8080/",
          "height": 52
        }
      },
      "source": [
        "print(x_train.shape, y_train.shape)\n",
        "print(x_test.shape, y_test.shape)"
      ],
      "execution_count": null,
      "outputs": [
        {
          "output_type": "stream",
          "text": [
            "(60000, 28, 28) (60000,)\n",
            "(10000, 28, 28) (10000,)\n"
          ],
          "name": "stdout"
        }
      ]
    },
    {
      "cell_type": "code",
      "metadata": {
        "id": "-7BKQnV8mjie"
      },
      "source": [
        "x_train = x_train.reshape(-1, 28*28)\n",
        "x_test = x_test.reshape(-1, 28*28)\n"
      ],
      "execution_count": null,
      "outputs": []
    },
    {
      "cell_type": "code",
      "metadata": {
        "id": "p0rOQyhEpHaN",
        "outputId": "0a6bfbea-51a1-4dbc-a19e-98f84b46ecee",
        "colab": {
          "base_uri": "https://localhost:8080/",
          "height": 87
        }
      },
      "source": [
        "print(x_train.shape, y_train.shape)\n",
        "print(x_test.shape, y_test.shape)\n",
        "\n",
        "import pandas as pd\n",
        "y_train = pd.get_dummies(y_train)\n",
        "y_test= pd.get_dummies(y_test)\n",
        "print(x_train.shape, y_train.shape)\n",
        "print(x_test.shape, y_test.shape)\n",
        "\n"
      ],
      "execution_count": null,
      "outputs": [
        {
          "output_type": "stream",
          "text": [
            "(60000, 784) (60000, 10)\n",
            "(10000, 784) (10000, 10)\n",
            "(60000, 784) (60000, 10)\n",
            "(10000, 784) (10000, 10)\n"
          ],
          "name": "stdout"
        }
      ]
    },
    {
      "cell_type": "code",
      "metadata": {
        "id": "bbjpvTHIj5Ha"
      },
      "source": [
        "X = tf.keras.layers.Input(shape=[784])\n",
        "H = tf.keras.layers.Dense(392, activation=tf.keras.activations.swish)(X)\n",
        "H = tf.keras.layers.Dense(196, activation=tf.keras.activations.swish)(H)\n",
        "Y = tf.keras.layers.Dense(10, activation=tf.keras.activations.softmax)(H)\n",
        "oModel = tf.keras.models.Model(X, Y)"
      ],
      "execution_count": null,
      "outputs": []
    },
    {
      "cell_type": "code",
      "metadata": {
        "id": "0s1k7FmTm_bC",
        "outputId": "01723290-921c-4165-f305-24bccdbe9fbe",
        "colab": {
          "base_uri": "https://localhost:8080/",
          "height": 389
        }
      },
      "source": [
        "oModel.compile(loss=tf.keras.losses.categorical_crossentropy,\n",
        "               metrics=tf.keras.metrics.Accuracy())\n",
        "oHistory = oModel.fit(x_train, y_train, epochs=10, batch_size=196, shuffle=True, validation_split= 0.2)"
      ],
      "execution_count": null,
      "outputs": [
        {
          "output_type": "stream",
          "text": [
            "Epoch 1/10\n",
            "245/245 [==============================] - 3s 14ms/step - loss: 4.9287 - accuracy: 0.3383 - val_loss: 0.7835 - val_accuracy: 0.1662\n",
            "Epoch 2/10\n",
            "245/245 [==============================] - 3s 14ms/step - loss: 0.5319 - accuracy: 0.1489 - val_loss: 0.4377 - val_accuracy: 0.0892\n",
            "Epoch 3/10\n",
            "245/245 [==============================] - 3s 14ms/step - loss: 0.3010 - accuracy: 0.1181 - val_loss: 0.4077 - val_accuracy: 0.0544\n",
            "Epoch 4/10\n",
            "245/245 [==============================] - 3s 13ms/step - loss: 0.2093 - accuracy: 0.1377 - val_loss: 0.2916 - val_accuracy: 0.1314\n",
            "Epoch 5/10\n",
            "245/245 [==============================] - 3s 14ms/step - loss: 0.1836 - accuracy: 0.1779 - val_loss: 0.2739 - val_accuracy: 0.1674\n",
            "Epoch 6/10\n",
            "245/245 [==============================] - 3s 13ms/step - loss: 0.1512 - accuracy: 0.2050 - val_loss: 0.3421 - val_accuracy: 0.2230\n",
            "Epoch 7/10\n",
            "245/245 [==============================] - 3s 14ms/step - loss: 0.1338 - accuracy: 0.2375 - val_loss: 0.2510 - val_accuracy: 0.2039\n",
            "Epoch 8/10\n",
            "245/245 [==============================] - 3s 14ms/step - loss: 0.1111 - accuracy: 0.2797 - val_loss: 0.3020 - val_accuracy: 0.2787\n",
            "Epoch 9/10\n",
            "245/245 [==============================] - 3s 13ms/step - loss: 0.1040 - accuracy: 0.2895 - val_loss: 0.2982 - val_accuracy: 0.2770\n",
            "Epoch 10/10\n",
            "245/245 [==============================] - 3s 14ms/step - loss: 0.1004 - accuracy: 0.3295 - val_loss: 0.3422 - val_accuracy: 0.3857\n"
          ],
          "name": "stdout"
        }
      ]
    },
    {
      "cell_type": "code",
      "metadata": {
        "id": "Z9Pmo8DKmYnW",
        "outputId": "15a120df-415a-4e75-8a72-743ee1d696f0",
        "colab": {
          "base_uri": "https://localhost:8080/",
          "height": 72
        }
      },
      "source": [
        "#평가\n",
        "oModel.evaluate(x_test, y_test)"
      ],
      "execution_count": null,
      "outputs": [
        {
          "output_type": "stream",
          "text": [
            "313/313 [==============================] - 1s 2ms/step - loss: 0.3211 - accuracy: 0.3773\n"
          ],
          "name": "stdout"
        },
        {
          "output_type": "execute_result",
          "data": {
            "text/plain": [
              "[0.3211357891559601, 0.37727001309394836]"
            ]
          },
          "metadata": {
            "tags": []
          },
          "execution_count": 62
        }
      ]
    },
    {
      "cell_type": "code",
      "metadata": {
        "id": "9TtHlMdb77F2"
      },
      "source": [
        ""
      ],
      "execution_count": null,
      "outputs": []
    },
    {
      "cell_type": "code",
      "metadata": {
        "id": "CNO7DCq2my7a",
        "outputId": "12c0ea7e-cf01-422c-ebda-623bfb6072fe",
        "colab": {
          "base_uri": "https://localhost:8080/",
          "height": 34
        }
      },
      "source": [
        "oHistory.history.keys()"
      ],
      "execution_count": null,
      "outputs": [
        {
          "output_type": "execute_result",
          "data": {
            "text/plain": [
              "dict_keys(['loss', 'accuracy', 'val_loss', 'val_accuracy'])"
            ]
          },
          "metadata": {
            "tags": []
          },
          "execution_count": 49
        }
      ]
    },
    {
      "cell_type": "code",
      "metadata": {
        "id": "fXr9was-76V-",
        "outputId": "47ec8311-25fc-4534-d199-2c11ffe53d19",
        "colab": {
          "base_uri": "https://localhost:8080/",
          "height": 282
        }
      },
      "source": [
        "plt.plot(oHistory.history['loss'])\n",
        "plt.plot(oHistory.history['val_loss'])\n",
        "plt.legend(['loss', 'val_loss'])"
      ],
      "execution_count": null,
      "outputs": [
        {
          "output_type": "execute_result",
          "data": {
            "text/plain": [
              "<matplotlib.legend.Legend at 0x7f55501b90b8>"
            ]
          },
          "metadata": {
            "tags": []
          },
          "execution_count": 50
        },
        {
          "output_type": "display_data",
          "data": {
            "image/png": "[encoded data removed]",
            "text/plain": [
              "<Figure size 432x288 with 1 Axes>"
            ]
          },
          "metadata": {
            "tags": [],
            "needs_background": "light"
          }
        }
      ]
    },
    {
      "cell_type": "code",
      "metadata": {
        "id": "BI-_TcM68DWd",
        "outputId": "07aaa040-4bce-4bea-88ab-80dc3c5bbf9a",
        "colab": {
          "base_uri": "https://localhost:8080/",
          "height": 282
        }
      },
      "source": [
        "plt.plot(oHistory.history['accuracy'])\n",
        "plt.plot(oHistory.history['val_accuracy'])\n",
        "plt.legend(['accuracy','val_accuracy'])"
      ],
      "execution_count": null,
      "outputs": [
        {
          "output_type": "execute_result",
          "data": {
            "text/plain": [
              "<matplotlib.legend.Legend at 0x7f5550181b38>"
            ]
          },
          "metadata": {
            "tags": []
          },
          "execution_count": 51
        },
        {
          "output_type": "display_data",
          "data": {
            "image/png": "[encoded data removed]",
            "text/plain": [
              "<Figure size 432x288 with 1 Axes>"
            ]
          },
          "metadata": {
            "tags": [],
            "needs_background": "light"
          }
        }
      ]
    },
    {
      "cell_type": "code",
      "metadata": {
        "id": "iP8R5AKs8Ike",
        "outputId": "49696f60-f75c-48ee-c0cf-a588bcfc4c1c",
        "colab": {
          "base_uri": "https://localhost:8080/",
          "height": 325
        }
      },
      "source": [
        "import matplotlib.pyplot as plt\n",
        "plt.imshow(x_train[0].reshape(28,28))\n",
        "y_train[:1]"
      ],
      "execution_count": null,
      "outputs": [
        {
          "output_type": "execute_result",
          "data": {
            "text/html": [
              "<div>\n",
              "<style scoped>\n",
              "    .dataframe tbody tr th:only-of-type {\n",
              "        vertical-align: middle;\n",
              "    }\n",
              "\n",
              "    .dataframe tbody tr th {\n",
              "        vertical-align: top;\n",
              "    }\n",
              "\n",
              "    .dataframe thead th {\n",
              "        text-align: right;\n",
              "    }\n",
              "</style>\n",
              "<table border=\"1\" class=\"dataframe\">\n",
              "  <thead>\n",
              "    <tr style=\"text-align: right;\">\n",
              "      <th></th>\n",
              "      <th>0</th>\n",
              "      <th>1</th>\n",
              "      <th>2</th>\n",
              "      <th>3</th>\n",
              "      <th>4</th>\n",
              "      <th>5</th>\n",
              "      <th>6</th>\n",
              "      <th>7</th>\n",
              "      <th>8</th>\n",
              "      <th>9</th>\n",
              "    </tr>\n",
              "  </thead>\n",
              "  <tbody>\n",
              "    <tr>\n",
              "      <th>0</th>\n",
              "      <td>0</td>\n",
              "      <td>0</td>\n",
              "      <td>0</td>\n",
              "      <td>0</td>\n",
              "      <td>0</td>\n",
              "      <td>1</td>\n",
              "      <td>0</td>\n",
              "      <td>0</td>\n",
              "      <td>0</td>\n",
              "      <td>0</td>\n",
              "    </tr>\n",
              "  </tbody>\n",
              "</table>\n",
              "</div>"
            ],
            "text/plain": [
              "   0  1  2  3  4  5  6  7  8  9\n",
              "0  0  0  0  0  0  1  0  0  0  0"
            ]
          },
          "metadata": {
            "tags": []
          },
          "execution_count": 71
        },
        {
          "output_type": "display_data",
          "data": {
            "image/png": "[encoded data removed]",
            "text/plain": [
              "<Figure size 432x288 with 1 Axes>"
            ]
          },
          "metadata": {
            "tags": [],
            "needs_background": "light"
          }
        }
      ]
    },
    {
      "cell_type": "code",
      "metadata": {
        "id": "88QdfsrHf1hC",
        "outputId": "0bcff097-0d63-4cda-db49-5a9f121bd870",
        "colab": {
          "base_uri": "https://localhost:8080/",
          "height": 135
        }
      },
      "source": [
        "!git clone https://github.com/JinMyungPark/datasets.git"
      ],
      "execution_count": null,
      "outputs": [
        {
          "output_type": "stream",
          "text": [
            "Cloning into 'datasets'...\n",
            "remote: Enumerating objects: 54, done.\u001b[K\n",
            "remote: Counting objects: 100% (54/54), done.\u001b[K\n",
            "remote: Compressing objects: 100% (49/49), done.\u001b[K\n",
            "remote: Total 54 (delta 5), reused 11 (delta 4), pack-reused 0\u001b[K\n",
            "Unpacking objects: 100% (54/54), done.\n",
            "Checking out files: 100% (47/47), done.\n"
          ],
          "name": "stdout"
        }
      ]
    },
    {
      "cell_type": "code",
      "metadata": {
        "id": "3beCeaYHulUW",
        "outputId": "05f6398b-49b6-44fb-bb45-b4e15cdd28a8",
        "colab": {
          "base_uri": "https://localhost:8080/",
          "height": 68
        }
      },
      "source": [
        "ls -ltr"
      ],
      "execution_count": null,
      "outputs": [
        {
          "output_type": "stream",
          "text": [
            "total 8\n",
            "drwxr-xr-x 1 root root 4096 Oct  1 16:28 \u001b[0m\u001b[01;34msample_data\u001b[0m/\n",
            "drwxr-xr-x 4 root root 4096 Oct  6 07:05 \u001b[01;34mdatasets\u001b[0m/\n"
          ],
          "name": "stdout"
        }
      ]
    },
    {
      "cell_type": "code",
      "metadata": {
        "id": "gX8WjPtwu0PZ",
        "outputId": "b94895ca-fc95-4b5f-baaa-7069544adb22",
        "colab": {
          "base_uri": "https://localhost:8080/",
          "height": 51
        }
      },
      "source": [
        "cd datasets/\n"
      ],
      "execution_count": 4,
      "outputs": [
        {
          "output_type": "stream",
          "text": [
            "[Errno 2] No such file or directory: 'datasets/'\n",
            "/content/datasets\n"
          ],
          "name": "stdout"
        }
      ]
    },
    {
      "cell_type": "code",
      "metadata": {
        "id": "jfB9H7Lavn4v",
        "outputId": "c2bb0edd-5cda-4124-9ba5-bd8648f344aa",
        "colab": {
          "base_uri": "https://localhost:8080/",
          "height": 906
        }
      },
      "source": [
        "ls -ltr\n"
      ],
      "execution_count": 5,
      "outputs": [
        {
          "output_type": "stream",
          "text": [
            "total 13672\n",
            "-rw-r--r-- 1 root root     372 Oct  6 07:05 H_test_mean_exposure.csv\n",
            "-rw-r--r-- 1 root root     342 Oct  6 07:05 H_test_mean_bread.csv\n",
            "-rw-r--r-- 1 root root    1212 Oct  6 07:05 H_test_mean_AS_leadtime.csv\n",
            "-rw-r--r-- 1 root root     170 Oct  6 07:05 H_test_ANOVA_twoway_factorial.csv\n",
            "-rw-r--r-- 1 root root     108 Oct  6 07:05 H_test_ANOVA_twoway_block.csv\n",
            "-rw-r--r-- 1 root root     153 Oct  6 07:05 H_test_ANOVA_oneway.csv\n",
            "-rw-r--r-- 1 root root  599441 Oct  6 07:05 ClinicalTrials.gov_COVID_19.csv\n",
            "-rw-r--r-- 1 root root 3185189 Oct  6 07:05 ICTRP_COVID_19.csv\n",
            "drwxr-xr-x 2 root root    4096 Oct  6 07:05 \u001b[0m\u001b[01;34mICTRP_weekly\u001b[0m/\n",
            "-rw-r--r-- 1 root root   13919 Oct  6 07:05 download.png\n",
            "-rw-r--r-- 1 root root    3694 Oct  6 07:05 example_2015_expenditure.csv\n",
            "-rw-r--r-- 1 root root    7901 Oct  6 07:05 ex_19_prob.csv\n",
            "-rw-r--r-- 1 root root    1571 Oct  6 07:05 ex_19_Freq.csv\n",
            "-rw-r--r-- 1 root root  305887 Oct  6 07:05 example_2015_expenditure_┐°║╗┤δ╖╬.csv\n",
            "-rw-r--r-- 1 root root   11872 Oct  6 07:05 example_apt.csv\n",
            "-rw-r--r-- 1 root root  693076 Oct  6 07:05 example_cancer.csv\n",
            "-rw-r--r-- 1 root root 8499457 Oct  6 07:05 example_coffee.csv\n",
            "-rw-r--r-- 1 root root  319738 Oct  6 07:05 example_eventsale.csv\n",
            "-rw-r--r-- 1 root root    1200 Oct  6 07:05 example_kbo2015.csv\n",
            "-rw-r--r-- 1 root root   22121 Oct  6 07:05 example_population.csv\n",
            "-rw-r--r-- 1 root root   17206 Oct  6 07:05 example_population2.csv\n",
            "-rw-r--r-- 1 root root     185 Oct  6 07:05 example_kbo2015_team.csv\n",
            "-rw-r--r-- 1 root root   28132 Oct  6 07:05 example_kbo2015_player.csv\n",
            "-rw-r--r-- 1 root root    5032 Oct  6 07:05 example_salary.csv\n",
            "-rw-r--r-- 1 root root    1006 Oct  6 07:05 example_residuals_checking.csv\n",
            "-rw-r--r-- 1 root root   83254 Oct  6 07:05 example_realty.csv\n",
            "-rw-r--r-- 1 root root   16947 Oct  6 07:05 example_population_f.csv\n",
            "-rw-r--r-- 1 root root    3280 Oct  6 07:05 example_test_statistic_ex1_sample.csv\n",
            "-rw-r--r-- 1 root root     617 Oct  6 07:05 example_studentlist.csv\n",
            "-rw-r--r-- 1 root root    3016 Oct  6 07:05 example_studentlist2_utf.csv\n",
            "-rw-r--r-- 1 root root    2716 Oct  6 07:05 example_studentlist2.csv\n",
            "-rw-r--r-- 1 root root     321 Oct  6 07:05 example_sewing.csv\n",
            "-rw-r--r-- 1 root root     270 Oct  6 07:05 score.xml\n",
            "-rw-r--r-- 1 root root     521 Oct  6 07:05 score.sav\n",
            "-rw-r--r-- 1 root root     907 Oct  6 07:05 osx_font.Rprofile\n",
            "-rw-r--r-- 1 root root     213 Oct  6 07:05 omit.csv\n",
            "-rw-r--r-- 1 root root     348 Oct  6 07:05 example_ts.csv\n",
            "-rw-r--r-- 1 root root    5428 Oct  6 07:05 example_ts3.csv\n",
            "-rw-r--r-- 1 root root    2305 Oct  6 07:05 example_ts2.csv\n",
            "-rw-r--r-- 1 root root    1516 Oct  6 07:05 example_test_statistic_ex2_sample.csv\n",
            "-rw-r--r-- 1 root root   25901 Oct  6 07:05 example_test_statistic_ex2_population.csv\n",
            "-rw-r--r-- 1 root root   11256 Oct  6 07:05 studentlist.xlsx\n",
            "-rw-r--r-- 1 root root     528 Oct  6 07:05 studentlist.txt\n",
            "-rw-r--r-- 1 root root     528 Oct  6 07:05 studentlist2.txt\n"
          ],
          "name": "stdout"
        }
      ]
    },
    {
      "cell_type": "code",
      "metadata": {
        "id": "i_bJSxd2vqBq"
      },
      "source": [
        ""
      ],
      "execution_count": null,
      "outputs": []
    }
  ]
}